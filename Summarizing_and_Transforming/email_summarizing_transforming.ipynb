{
 "cells": [
  {
   "cell_type": "markdown",
   "metadata": {},
   "source": [
    "'''\n",
    "\n",
    "\n",
    "    @Author: Prathamesh Deshpande\n",
    "    @Date: 21/11/2024\n",
    "    @Last Modified by: Prathamesh Deshpande\n",
    "    @Last Modified time: 21/11/2024\n",
    "    @Title: python Code To summarize the mail and translate into Marathi using prompt engineering\n",
    "\n",
    "\n",
    "'''"
   ]
  },
  {
   "cell_type": "markdown",
   "metadata": {},
   "source": [
    "Importing Libraries"
   ]
  },
  {
   "cell_type": "code",
   "execution_count": 1,
   "metadata": {},
   "outputs": [],
   "source": [
    "import os\n",
    "import google.generativeai as genai\n",
    "import csv"
   ]
  },
  {
   "cell_type": "markdown",
   "metadata": {},
   "source": [
    "Config Gemini AI"
   ]
  },
  {
   "cell_type": "code",
   "execution_count": 2,
   "metadata": {},
   "outputs": [],
   "source": [
    "genai.configure(api_key=os.getenv('GEMINI_API_KEY'))\n",
    "\n",
    "generation_config = {\n",
    "  \"temperature\": 0.9,\n",
    "  \"top_p\": 0.95,\n",
    "  \"top_k\": 64,\n",
    "  \"max_output_tokens\": 8192,\n",
    "}\n",
    "\n",
    "model = genai.GenerativeModel(\n",
    "  model_name=\"gemini-1.5-flash\",\n",
    "  generation_config=generation_config,\n",
    ")"
   ]
  },
  {
   "cell_type": "markdown",
   "metadata": {},
   "source": [
    "Reading Mail information from Sample_Mails.txt File"
   ]
  },
  {
   "cell_type": "code",
   "execution_count": 3,
   "metadata": {},
   "outputs": [],
   "source": [
    "def read_emails(file_path, delimiter=\"---END OF EMAIL---\"):\n",
    "    \"\"\"\n",
    "    Description: \n",
    "        This function reads the email from the text file\n",
    "\n",
    "    Parameters:\n",
    "        file_path: Path of txt file\n",
    "        delimiter: delimiter\n",
    "\n",
    "    Return:\n",
    "        list: list of emails\n",
    "    \"\"\"\n",
    "    \n",
    "    with open(file_path, 'r') as file:\n",
    "        emails = file.read().split(delimiter)\n",
    "        \n",
    "    return [email.strip() for email in emails if email.strip()]  # Return non-empty emails"
   ]
  },
  {
   "cell_type": "code",
   "execution_count": 4,
   "metadata": {},
   "outputs": [],
   "source": [
    "def extract_email_info(email):\n",
    "    \"\"\"\n",
    "    Description: \n",
    "        This Function extracts sender, receiver, and body from email\n",
    "\n",
    "    Parameters:\n",
    "        email\n",
    "        \n",
    "    Return:\n",
    "        sender, receiver, and body (str)\n",
    "    \"\"\"\n",
    "    lines = email.split(\"\\n\")\n",
    "    sender = receiver = body = subject = \"\"\n",
    "    \n",
    "    for line in lines:\n",
    "        if line.startswith(\"From:\"):\n",
    "            sender = line.split(\":\")[1].strip()\n",
    "\n",
    "        elif line.startswith(\"To:\"):\n",
    "            receiver = line.split(\":\")[1].strip()\n",
    "\n",
    "        elif line.startswith(\"Subject:\"):\n",
    "            subject = line.split(\":\")[1].strip()\n",
    "\n",
    "        elif not line.startswith(\"Subject:\") and not line.startswith(\"From:\") and not line.startswith(\"To:\"):\n",
    "            body += line.strip() + \" \"\n",
    "    \n",
    "    return sender, receiver,subject, body.strip()"
   ]
  },
  {
   "cell_type": "markdown",
   "metadata": {},
   "source": [
    "Summarizing Task"
   ]
  },
  {
   "cell_type": "code",
   "execution_count": 5,
   "metadata": {},
   "outputs": [],
   "source": [
    "def summarize_email(body, chat_session):\n",
    "    \"\"\"\n",
    "    Description: \n",
    "        This Function summarizes email body using the Gemini model\n",
    "\n",
    "    Parameters:\n",
    "        body: body of email\n",
    "        chat_session: gemini ai chat session\n",
    "\n",
    "    Return:\n",
    "        response(str): summarized response\n",
    "    \"\"\"\n",
    "    \n",
    "    response = chat_session.send_message(f\"Summarize the following email: {body}\")\n",
    "    return response.text"
   ]
  },
  {
   "cell_type": "markdown",
   "metadata": {},
   "source": [
    "Translation Task"
   ]
  },
  {
   "cell_type": "code",
   "execution_count": 6,
   "metadata": {},
   "outputs": [],
   "source": [
    "def translate_email(text, chat_session):\n",
    "    \"\"\"\n",
    "    Description: \n",
    "        This Function translates text using the Gemini model\n",
    "\n",
    "    Parameters:\n",
    "        body: body of email\n",
    "        chat_session: gemini ai chat session\n",
    "\n",
    "    Return:\n",
    "        response(str): summarized response\n",
    "    \"\"\"\n",
    "    \n",
    "    response = chat_session.send_message(f\"Translate the following text to Marathi: {text}\")\n",
    "    return response.text"
   ]
  },
  {
   "cell_type": "markdown",
   "metadata": {},
   "source": [
    "Save output to csv file"
   ]
  },
  {
   "cell_type": "code",
   "execution_count": 7,
   "metadata": {},
   "outputs": [],
   "source": [
    "def save_to_csv(data, csv_file):\n",
    "    \"\"\"\n",
    "    Description: \n",
    "        This function save the response in csv file\n",
    "    Parameters:\n",
    "        data: data to be saved in csv\n",
    "        csv_file: csv file name/path\n",
    "    \"\"\"\n",
    "    with open(csv_file, 'w', newline='', encoding='utf-8') as file:\n",
    "        writer = csv.writer(file)\n",
    "        writer.writerow([\"Sender\", \"Receiver\",\"Subject\",\"Summary (EN)\", \"Summary (Marathi)\"])\n",
    "        writer.writerows(data)"
   ]
  },
  {
   "cell_type": "code",
   "execution_count": 8,
   "metadata": {},
   "outputs": [],
   "source": [
    "def process_emails(file_path, csv_file, chat_session, delimiter=\"---END OF EMAIL---\"):\n",
    "    \"\"\"\n",
    "    Description: \n",
    "        This function processes the email \n",
    "\n",
    "    Parameters:\n",
    "        file_path: file of email texts\n",
    "        csv_file: name/path of csv file\n",
    "        chat_session: gemini ai chat session\n",
    "        \n",
    "    Return:\n",
    "        response(str): summarized response\n",
    "    \"\"\"\n",
    "    emails = read_emails(file_path, delimiter)\n",
    "    data = []\n",
    "\n",
    "    for email in emails:\n",
    "        sender, receiver, subject, body = extract_email_info(email)\n",
    "        summary_en = summarize_email(body, chat_session)\n",
    "        summary_marathi = translate_email(summary_en, chat_session)\n",
    "        data.append([sender, receiver,subject ,summary_en, summary_marathi])\n",
    "    \n",
    "    save_to_csv(data, csv_file)"
   ]
  },
  {
   "cell_type": "code",
   "execution_count": 9,
   "metadata": {},
   "outputs": [],
   "source": [
    "def main():\n",
    "    chat_session = model.start_chat(\n",
    "        history=[]\n",
    "    )\n",
    "    process_emails('Sample_Emails.txt', 'Processed_emails.csv', chat_session)"
   ]
  },
  {
   "cell_type": "code",
   "execution_count": 10,
   "metadata": {},
   "outputs": [],
   "source": [
    "if __name__ == '__main__':\n",
    "    main()"
   ]
  }
 ],
 "metadata": {
  "kernelspec": {
   "display_name": "base",
   "language": "python",
   "name": "python3"
  },
  "language_info": {
   "codemirror_mode": {
    "name": "ipython",
    "version": 3
   },
   "file_extension": ".py",
   "mimetype": "text/x-python",
   "name": "python",
   "nbconvert_exporter": "python",
   "pygments_lexer": "ipython3",
   "version": "3.9.13"
  }
 },
 "nbformat": 4,
 "nbformat_minor": 2
}
