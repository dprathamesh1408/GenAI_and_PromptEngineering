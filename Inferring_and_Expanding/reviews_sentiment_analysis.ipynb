{
 "cells": [
  {
   "cell_type": "markdown",
   "metadata": {},
   "source": [
    "'''\n",
    "\n",
    "\n",
    "    @Author: Prathamesh Deshpande\n",
    "    @Date: 21/11/2024\n",
    "    @Last Modified by: Prathamesh Deshpande\n",
    "    @Last Modified time: 21/11/2024\n",
    "    @Title: Python code to perform infering(classify the reviews as postive,negative or neutral) and expanding(Process review to generate more info.) using Gemini AI.\n",
    "\n",
    "\n",
    "'''"
   ]
  },
  {
   "cell_type": "markdown",
   "metadata": {},
   "source": [
    "Importing Libraries"
   ]
  },
  {
   "cell_type": "code",
   "execution_count": 1,
   "metadata": {},
   "outputs": [],
   "source": [
    "import os\n",
    "import google.generativeai as genai\n",
    "import csv\n",
    "import time"
   ]
  },
  {
   "cell_type": "markdown",
   "metadata": {},
   "source": [
    "Configure the Gemini AI"
   ]
  },
  {
   "cell_type": "code",
   "execution_count": 2,
   "metadata": {},
   "outputs": [],
   "source": [
    "genai.configure(api_key=os.getenv('GEMINI_API_KEY'))"
   ]
  },
  {
   "cell_type": "code",
   "execution_count": 3,
   "metadata": {},
   "outputs": [],
   "source": [
    "generation_config = {\n",
    "  \"temperature\": 0.9,\n",
    "  \"top_p\": 0.95,\n",
    "  \"top_k\": 64,\n",
    "  \"max_output_tokens\": 8192,\n",
    "}\n",
    "\n",
    "model = genai.GenerativeModel(\n",
    "  model_name=\"gemini-1.5-flash\",\n",
    "  generation_config=generation_config,)"
   ]
  },
  {
   "cell_type": "markdown",
   "metadata": {},
   "source": [
    "Reading Reviews from Product_Reviews.txt file"
   ]
  },
  {
   "cell_type": "code",
   "execution_count": 4,
   "metadata": {},
   "outputs": [],
   "source": [
    "def read_reviews(file_path, delimiter=\"---END OF REVIEW---\"):\n",
    "    \"\"\"\n",
    "    Description: \n",
    "        This function reads the c from the text file\n",
    "\n",
    "    Parameters:\n",
    "        file_path: Path of txt file\n",
    "        delimiter: delimiter\n",
    "\n",
    "    Return:\n",
    "        list: list of reviews\n",
    "    \"\"\"\n",
    "\n",
    "    with open(file_path, 'r') as file:\n",
    "            reviews = file.read().split(delimiter)\n",
    "            \n",
    "    return [review.strip() for review in reviews if review.strip()]"
   ]
  },
  {
   "cell_type": "code",
   "execution_count": 5,
   "metadata": {},
   "outputs": [],
   "source": [
    "def extract_review_info(review):\n",
    "    \"\"\"\n",
    "    Description: \n",
    "        This function extracts product name, and body from review\n",
    "\n",
    "    Parameters:\n",
    "        review: review body\n",
    "\n",
    "    Return:\n",
    "        product, review_text (str)\n",
    "    \"\"\"\n",
    "\n",
    "    lines = review.split(\"\\n\")\n",
    "    product = \"\"\n",
    "    review_text = \"\"\n",
    "\n",
    "    for line in lines:\n",
    "        if line.startswith(\"Product:\"):\n",
    "            product = line.split(\":\")[1].strip()\n",
    "            \n",
    "        elif line.startswith(\"Review:\"):\n",
    "            review_text = line.split(\":\")[1].strip()\n",
    "    \n",
    "    return product, review_text"
   ]
  },
  {
   "cell_type": "code",
   "execution_count": null,
   "metadata": {},
   "outputs": [],
   "source": [
    "def analyze_sentiment(review_text, chat_session):\n",
    "    \"\"\"\n",
    "    Description: \n",
    "        This function analyze review sentiment and gives proper reply\n",
    "    Parameters:\n",
    "        review_text: review body\n",
    "        chat_session: gemini ai chat session\n",
    "    Return:\n",
    "        sentiment, reply (str)\n",
    "    \"\"\"\n",
    "    \n",
    "    # Ask Gemini to categorize the sentiment of the review\n",
    "    sentiment_response = chat_session.send_message(f\"Categorize the sentiment in one word of this review in Postive/Negative/Neutral: {review_text}\")\n",
    "    sentiment = sentiment_response.text.lower()\n",
    "\n",
    "    # Determine reply based on sentiment\n",
    "    reply = chat_session.send_message(f\"Add a 40 words reply to this review: {review_text} as per sentiment {sentiment}\")\n",
    "    reply = reply.text\n",
    "\n",
    "    return sentiment, reply"
   ]
  },
  {
   "cell_type": "code",
   "execution_count": 7,
   "metadata": {},
   "outputs": [],
   "source": [
    "def guess_product(review_text, chat_session):\n",
    "    \"\"\"\n",
    "    Description: \n",
    "        This function guesses the product category based on the review text\n",
    "    Parameters:\n",
    "        review_text: review body\n",
    "        chat_session: gemini ai chat session\n",
    "    Return:\n",
    "        product_response (str)\n",
    "    \"\"\"\n",
    "    \n",
    "    # Ask Gemini to guess the product category based on the review text\n",
    "    product_response = chat_session.send_message(f\"Guess the product name based on this review in one word: {review_text}\")\n",
    "    return product_response.text.strip()"
   ]
  },
  {
   "cell_type": "markdown",
   "metadata": {},
   "source": [
    "Save Output to csv file"
   ]
  },
  {
   "cell_type": "code",
   "execution_count": 8,
   "metadata": {},
   "outputs": [],
   "source": [
    "def save_to_csv(data, csv_file):\n",
    "    \"\"\"\n",
    "    Description: \n",
    "        This function save the response in csv file\n",
    "        \n",
    "    Parameters:\n",
    "        data: data to be saved in csv\n",
    "        csv_file: csv file name/path\n",
    "    \"\"\"\n",
    "    with open(csv_file, 'w', newline='', encoding='utf-8') as file:\n",
    "        writer = csv.writer(file)\n",
    "        writer.writerow([\"Original Product\", \"Guessed Product\", \"Review\", \"Sentiment\", \"Reply\"])  # CSV header\n",
    "        writer.writerows(data)"
   ]
  },
  {
   "cell_type": "code",
   "execution_count": null,
   "metadata": {},
   "outputs": [],
   "source": [
    "def process_reviews(file_path, csv_file, chat_session, delimiter=\"---END OF REVIEW---\"):\n",
    "    \"\"\"\n",
    "    Description: \n",
    "        This Function processes the review\n",
    "        \n",
    "    Parameters:\n",
    "        file_path: file path of txt file\n",
    "        csv_file: csv file path\n",
    "        chat_session: gemini ai chat session \n",
    "    \"\"\"\n",
    "    reviews = read_reviews(file_path, delimiter)\n",
    "    data = []\n",
    "\n",
    "    for review in reviews:\n",
    "        original_product, review_text = extract_review_info(review)\n",
    "        guessed_product = guess_product(review_text, chat_session)\n",
    "        sentiment, reply = analyze_sentiment(review_text, chat_session)\n",
    "        data.append([original_product, guessed_product, review_text, sentiment, reply])\n",
    "        time.sleep(10)\n",
    "    \n",
    "    save_to_csv(data, csv_file)"
   ]
  },
  {
   "cell_type": "code",
   "execution_count": 10,
   "metadata": {},
   "outputs": [],
   "source": [
    "def main():\n",
    "    chat_session = model.start_chat(\n",
    "        history=[]\n",
    "    )\n",
    "    process_reviews(\"Product_Reviews.txt\",\"Processed_Reviews.csv\",chat_session)"
   ]
  },
  {
   "cell_type": "code",
   "execution_count": 11,
   "metadata": {},
   "outputs": [],
   "source": [
    "if __name__ == '__main__':\n",
    "    main()"
   ]
  }
 ],
 "metadata": {
  "kernelspec": {
   "display_name": "base",
   "language": "python",
   "name": "python3"
  },
  "language_info": {
   "codemirror_mode": {
    "name": "ipython",
    "version": 3
   },
   "file_extension": ".py",
   "mimetype": "text/x-python",
   "name": "python",
   "nbconvert_exporter": "python",
   "pygments_lexer": "ipython3",
   "version": "3.9.13"
  }
 },
 "nbformat": 4,
 "nbformat_minor": 2
}
